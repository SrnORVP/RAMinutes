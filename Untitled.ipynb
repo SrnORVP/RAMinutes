{
 "cells": [
  {
   "cell_type": "code",
   "execution_count": 5,
   "metadata": {},
   "outputs": [],
   "source": [
    "import pandas as pd, numpy as np, matplotlib.pyplot as plt, main_pandas, os\n",
    "from sys import platform\n",
    "from datetime import datetime"
   ]
  },
  {
   "cell_type": "code",
   "execution_count": 6,
   "metadata": {},
   "outputs": [],
   "source": [
    "strProjID = main_pandas.strProjID\n",
    "arrProjPath = main_pandas.arrProjPath\n",
    "strRAMiRes_Input = main_pandas.strRAMiRes_Input\n",
    "arrParaPath = main_pandas.arrParaPath\n",
    "arrRAMiCEs_Param = main_pandas.arrRAMiCEs_Param\n",
    "strRAMiRes_Output = main_pandas.strRAMiRes_Output"
   ]
  },
  {
   "cell_type": "code",
   "execution_count": 7,
   "metadata": {},
   "outputs": [],
   "source": [
    "#-----------------------------------------------------------------------------------------------------------------------\n",
    "intRAMheader = 'Element Description'\n",
    "strEndUnit = 'Units'                                               # Unit of Production (string)\n",
    "intProdTar = 95                                                     # Production Target (integer)\n",
    "intPieChartAngle = 60                                               # Start Angle for Pie Chart\n",
    "#-----------------------------------------------------------------------------------------------------------------------"
   ]
  },
  {
   "cell_type": "code",
   "execution_count": null,
   "metadata": {},
   "outputs": [],
   "source": []
  },
  {
   "cell_type": "code",
   "execution_count": 8,
   "metadata": {},
   "outputs": [],
   "source": [
    "# Subsystem Criticality\n",
    "dictDF = pd.read_excel(os.path.join(*arrProjPath, strRAMiRes_Input), sheet_name=None, header=0, dtype='object')\n",
    "dictDF['Event'].index = dictDF['Event'].set_index(intRAMheader)\n",
    "dictDF['Element'].index = dictDF['Element'].set_index(intRAMheader)"
   ]
  },
  {
   "cell_type": "code",
   "execution_count": null,
   "metadata": {},
   "outputs": [],
   "source": [
    "dfEqp = pd.DataFrame({'Tag': dfElem['Info'],\n",
    "                      'Grp': dictDF['Event']['Group Description'],\n",
    "                      'Cate': dictDF['Event']['Element Category'],\n",
    "                      'RelLoss': dictDF['Event']['Relative Loss %'],\n",
    "                      'AbsLoss': dictDF['Event']['Abs. Loss Mean%']}, index=dictDF['Event']['Element Description'])"
   ]
  }
 ],
 "metadata": {
  "kernelspec": {
   "display_name": "Python 3",
   "language": "python",
   "name": "python3"
  },
  "language_info": {
   "codemirror_mode": {
    "name": "ipython",
    "version": 3
   },
   "file_extension": ".py",
   "mimetype": "text/x-python",
   "name": "python",
   "nbconvert_exporter": "python",
   "pygments_lexer": "ipython3",
   "version": "3.7.3"
  }
 },
 "nbformat": 4,
 "nbformat_minor": 2
}
